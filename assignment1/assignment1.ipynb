{
 "cells": [
  {
   "cell_type": "markdown",
   "id": "03c74370",
   "metadata": {},
   "source": [
    "### Assisgment:\n",
    "Create a simple assistant that uses any LLM and should be pydantic, when we ask about any product it should give you two information product Name, product details tentative price in USD (integer). use chat Prompt Template.\n"
   ]
  },
  {
   "cell_type": "code",
   "execution_count": 1,
   "id": "448b5372",
   "metadata": {},
   "outputs": [],
   "source": [
    "import os\n",
    "from dotenv import load_dotenv\n",
    "load_dotenv()\n",
    "\n",
    "os.environ[\"OPENAI_API_KEY\"]=os.getenv(\"OPENAI_API_KEY\")\n",
    "os.environ[\"GROQ_API_KEY\"]=os.getenv(\"GROQ_API_KEY\")\n",
    "## Langsmith Tracking And Tracing\n",
    "os.environ[\"LANGCHAIN_API_KEY\"]=os.getenv(\"LANGCHAIN_API_KEY\")\n",
    "os.environ[\"LANGCHAIN_PROJECT\"]=os.getenv(\"LANGCHAIN_PROJECT\")\n",
    "os.environ[\"LANGCHAIN_TRACING_V2\"]=\"true\""
   ]
  },
  {
   "cell_type": "code",
   "execution_count": 2,
   "id": "a36a7345",
   "metadata": {},
   "outputs": [],
   "source": [
    "from pydantic import BaseModel, Field\n",
    "from langchain_core.output_parsers import PydanticOutputParser\n",
    "# model\n",
    "class ProductInfo(BaseModel):\n",
    "    product_name: str = Field(..., description=\"Name of the product\")\n",
    "    product_details: str = Field(..., description=\"Details about the product\")\n",
    "    tentative_price_usd: int = Field(..., description=\"Tentative price in USD (integer)\")\n",
    "\n",
    "# Output parser\n",
    "parser = PydanticOutputParser(pydantic_object=ProductInfo)"
   ]
  },
  {
   "cell_type": "code",
   "execution_count": null,
   "id": "f9f5beb2",
   "metadata": {},
   "outputs": [],
   "source": [
    "# Define Prompt Template\n",
    "from langchain_core.prompts import ChatPromptTemplate\n",
    "\n",
    "prompt = ChatPromptTemplate.from_template(\n",
    "    \"You are a helpful assistant.\\n\"\n",
    "    \"Give a JSON with the following fields for the product '{product_query}':\\n\"\n",
    "    \"{format_instructions}\"\n",
    ")"
   ]
  },
  {
   "cell_type": "code",
   "execution_count": 6,
   "id": "4dddb7de",
   "metadata": {},
   "outputs": [],
   "source": [
    "# Define Prompt Template\n",
    "from langchain_groq import ChatGroq\n",
    "model=ChatGroq(model=\"gemma2-9b-it\")\n",
    "chain = prompt | model | parser\n"
   ]
  },
  {
   "cell_type": "code",
   "execution_count": 5,
   "id": "827ca269",
   "metadata": {},
   "outputs": [
    {
     "name": "stdout",
     "output_type": "stream",
     "text": [
      "product_name='Macbook Pro' product_details='Powerful laptop with a Retina display, M1 Pro or M1 Max chip, and up to 32GB of unified memory.' tentative_price_usd=1999\n"
     ]
    }
   ],
   "source": [
    "# Step 7: Call the Chain\n",
    "result = chain.invoke({\n",
    "    \"product_query\": \"Macbook pro\",\n",
    "    \"format_instructions\": parser.get_format_instructions()\n",
    "})\n",
    "\n",
    "# Step 8: Display Result\n",
    "print(result)"
   ]
  },
  {
   "cell_type": "code",
   "execution_count": null,
   "id": "1095105d",
   "metadata": {},
   "outputs": [],
   "source": []
  }
 ],
 "metadata": {
  "kernelspec": {
   "display_name": "env",
   "language": "python",
   "name": "python3"
  },
  "language_info": {
   "codemirror_mode": {
    "name": "ipython",
    "version": 3
   },
   "file_extension": ".py",
   "mimetype": "text/x-python",
   "name": "python",
   "nbconvert_exporter": "python",
   "pygments_lexer": "ipython3",
   "version": "3.13.3"
  }
 },
 "nbformat": 4,
 "nbformat_minor": 5
}
