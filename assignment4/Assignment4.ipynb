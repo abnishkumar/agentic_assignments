{
 "cells": [
  {
   "cell_type": "code",
   "execution_count": 83,
   "id": "6002e96e",
   "metadata": {},
   "outputs": [],
   "source": [
    "from dotenv import load_dotenv\n",
    "import os\n",
    "\n",
    "load_dotenv()\n",
    "\n",
    "os.environ[\"GOOGLE_API_KEY\"]=os.getenv(\"GEMINI_API_KEY\")\n",
    "os.environ[\"HUGGINGFACE_HUB_TOKEN\"]=os.getenv(\"HUGGINGFACE_HUB_TOKEN\")\n",
    "## Langsmith Tracking And Tracing\n",
    "os.environ[\"LANGCHAIN_API_KEY\"]=os.getenv(\"LANGCHAIN_API_KEY\")\n",
    "os.environ[\"LANGCHAIN_PROJECT\"]=os.getenv(\"LANGCHAIN_PROJECT\")\n",
    "os.environ[\"LANGCHAIN_TRACING_V2\"]=\"true\"\n",
    "\n",
    "os.environ[\"TAVILY_API_KEY\"]=os.getenv(\"TAVILY_API_KEY\")"
   ]
  },
  {
   "cell_type": "markdown",
   "id": "7477e290",
   "metadata": {},
   "source": [
    "# Load Model"
   ]
  },
  {
   "cell_type": "code",
   "execution_count": 84,
   "id": "bf6c3be7",
   "metadata": {},
   "outputs": [
    {
     "name": "stdout",
     "output_type": "stream",
     "text": [
      "Hi there! How can I help you today?\n"
     ]
    }
   ],
   "source": [
    "from langchain_google_genai import ChatGoogleGenerativeAI\n",
    "from langchain_community.embeddings import HuggingFaceEmbeddings\n",
    "# Create embeddings for the text chunks\n",
    "embeddings = HuggingFaceEmbeddings(model_name=\"sentence-transformers/all-MiniLM-L6-v2\")\n",
    "model=ChatGoogleGenerativeAI(model='gemini-1.5-flash')\n",
    "output=model.invoke(\"hi\")\n",
    "print(output.content)"
   ]
  },
  {
   "cell_type": "code",
   "execution_count": 85,
   "id": "af6eaa9a",
   "metadata": {},
   "outputs": [
    {
     "name": "stdout",
     "output_type": "stream",
     "text": [
      "Number of chunks created: 314\n",
      "First chunk: Andrew Ng \n",
      "Andrew Ng  \n",
      "Deep Learning \n",
      "Thanks to Adam Coates, Kai Yu, Tong Zhang, Sameep Tandon, \n",
      "Swati Dube, Brody Huval, Tao Wang, …....\n",
      "Vector store created and saved successfully.\n"
     ]
    }
   ],
   "source": [
    "from langchain_community.document_loaders import PyPDFLoader\n",
    "from langchain.text_splitter import RecursiveCharacterTextSplitter\n",
    "from langchain_community.vectorstores import FAISS\n",
    "\n",
    "\n",
    "faiss_index=\"vectordb_faiss_index\"  # Directory to save the FAISS index\n",
    "def load_vector_store():\n",
    "    # Load the PDF file\n",
    "    pdf_path = \"pdfs/document.pdf\"\n",
    "    loader = PyPDFLoader(pdf_path)\n",
    "    documents = loader.load()\n",
    "\n",
    "    # Split the documents into smaller chunks\n",
    "    text_splitter = RecursiveCharacterTextSplitter(chunk_size=1000, chunk_overlap=200)\n",
    "    split_docs = text_splitter.split_documents(documents)\n",
    "    print(f\"Number of chunks created: {len(split_docs)}\")\n",
    "    # Print the first chunk for verification   \n",
    "    print(f\"First chunk: {split_docs[0].page_content[:500]}...\")\n",
    "    # Create a FAISS vector store from the embeddings\n",
    "    vector_store = FAISS.from_documents(split_docs, embeddings)\n",
    "\n",
    "    # Save the vector store to disk\n",
    "    vector_store.save_local(faiss_index)\n",
    "    print(\"Vector store created and saved successfully.\")\n",
    "if __name__ == \"__main__\":\n",
    "    load_vector_store()\n",
    "# Ensure you have the required libraries installed:\n",
    "# pip install langchain-community faiss-cpu sentence-transformers   \n",
    "# Make sure to replace \"path/to/your/document.pdf\" with the actual path to your PDF file.\n",
    "# You can also adjust the chunk size and overlap as needed."
   ]
  },
  {
   "cell_type": "code",
   "execution_count": 86,
   "id": "db427f89",
   "metadata": {},
   "outputs": [],
   "source": [
    "def get_retriever():\n",
    "    # Load the vector store from disk\n",
    "    if not os.path.exists(faiss_index):\n",
    "        print(f\"Vector store directory '{faiss_index}' does not exist. Please run the load_vector_store function first.\")\n",
    "        return None\n",
    "    vector_store=FAISS.load_local(faiss_index, embeddings, allow_dangerous_deserialization=True)\n",
    "    retriever=vector_store.as_retriever(search_kwargs={\"k\": 3})\n",
    "    return retriever"
   ]
  },
  {
   "cell_type": "code",
   "execution_count": 87,
   "id": "754b876d",
   "metadata": {},
   "outputs": [
    {
     "name": "stdout",
     "output_type": "stream",
     "text": [
      "Answer to the query:\n",
      "1: 3 Prerequisites and Notation \n",
      " \n",
      "If you have taken a Machine Learning course such as my machine learning MOOC on \n",
      "Coursera, or if you have experience applying supervised learning, you will be able to \n",
      "understand this text.  \n",
      "I assume you are familiar with ​supervised learning​: learning a function that maps from x \n",
      "to y, using labeled training examples (x,y). Supervised learning algorithms include linear \n",
      "regression, logistic regression, and neural networks. There are many forms of machine \n",
      "learning, but the majority of Machine Learning’s practical value today comes from \n",
      "supervised learning.  \n",
      "I will frequently refer to neural networks (also known as “deep learning”). You’ll only need a \n",
      "basic understanding of what they are to follow this text.  \n",
      "If you are not familiar with the concepts mentioned here, watch the first three weeks of \n",
      "videos in the Machine Learning course on Coursera at ​http://ml-class.org \n",
      "  \n",
      "Page 9 Machine Learning Yearning-Draft Andrew Ng\n"
     ]
    }
   ],
   "source": [
    "# Function to get an answer from the vector store based on a query\n",
    "def get_answer(query):\n",
    "    # Load the vector store\n",
    "    retriever = get_retriever()\n",
    "    if retriever is None:\n",
    "        print(\"Retriever could not be created. Exiting.\")\n",
    "        return []\n",
    "    # Query the vector store\n",
    "    results = retriever.invoke(query)  # Adjust k for the number of results you want\n",
    "    if not results:\n",
    "        print(\"No results found for the query.\")\n",
    "        return []\n",
    "    results_texts = [doc.page_content for doc in results]\n",
    "    return results_texts\n",
    "\n",
    "\n",
    "answer=get_answer(\"What is the main topic of the document?\")\n",
    "print(\"Answer to the query:\")\n",
    "for i, text in enumerate(answer):\n",
    "    print(f\"{i+1}: {text}\")\n",
    "    break  # Remove this break to see all results, currently it will only print the first result\n",
    "# Note: The above code assumes you have a PDF document at \"pdfs/document.pdf\".   "
   ]
  },
  {
   "cell_type": "markdown",
   "id": "c8006871",
   "metadata": {},
   "source": [
    "# state class"
   ]
  },
  {
   "cell_type": "code",
   "execution_count": 107,
   "id": "d25c5855",
   "metadata": {},
   "outputs": [],
   "source": [
    "from typing import Sequence, Annotated\n",
    "import operator\n",
    "from langchain_core.messages import BaseMessage\n",
    "# Instead, define your own AgentState:\n",
    "from typing import TypedDict, List\n",
    "\n",
    "class AgentState(TypedDict):\n",
    "    messages: Annotated[Sequence[BaseMessage], operator.add]"
   ]
  },
  {
   "cell_type": "markdown",
   "id": "b1578818",
   "metadata": {},
   "source": [
    "# pydentic setup"
   ]
  },
  {
   "cell_type": "code",
   "execution_count": 89,
   "id": "954ae2dd",
   "metadata": {},
   "outputs": [],
   "source": [
    "from pydantic import BaseModel, Field\n",
    "from langchain.output_parsers import PydanticOutputParser\n",
    "\n",
    "class TopicSelectionParser(BaseModel):\n",
    "    Topic:str=Field(description=\"selected topic\")\n",
    "    Reasoning:str=Field(description='Reasoning behind topic selection')\n",
    "\n",
    "parser=PydanticOutputParser(pydantic_object=TopicSelectionParser)"
   ]
  },
  {
   "cell_type": "markdown",
   "id": "71c69981",
   "metadata": {},
   "source": [
    "# RAG Setup"
   ]
  },
  {
   "cell_type": "code",
   "execution_count": 100,
   "id": "bf217951",
   "metadata": {},
   "outputs": [],
   "source": [
    "from langchain_core.runnables import RunnablePassthrough\n",
    "from langchain_core.prompts import PromptTemplate\n",
    "from langchain_core.output_parsers import StrOutputParser\n",
    "\n",
    "# Function to format the retrieved documents\n",
    "def format_docs(docs):\n",
    "    return \"\\n\\n\".join([doc.page_content for doc in docs])\n",
    "\n",
    "# RAG Function\n",
    "def rag_function(state:AgentState):\n",
    "    print(\"-> RAG Call ->\")\n",
    "    \n",
    "    question = state[\"messages\"][0]\n",
    "    \n",
    "    prompt=PromptTemplate(\n",
    "        template=\"\"\"You are an assistant for question-answering tasks. Use the following pieces of retrieved context to answer the question. If you don't know the answer, just say that you don't know. Use three sentences maximum and keep the answer concise.\\nQuestion: {question} \\nContext: {context} \\nAnswer:\"\"\",\n",
    "        \n",
    "        input_variables=['context', 'question']\n",
    "    )\n",
    "    retriever = get_retriever()\n",
    "    if retriever is None:\n",
    "        return {\"messages\": [\"Retriever could not be created.\"]}\n",
    "        \n",
    "    rag_chain = (\n",
    "        {\"context\": retriever | format_docs, \"question\": RunnablePassthrough()}\n",
    "        | prompt\n",
    "        | model\n",
    "        | StrOutputParser()\n",
    "    )\n",
    "    result = rag_chain.invoke(question)\n",
    "    return  {\"messages\": [result]}"
   ]
  },
  {
   "cell_type": "code",
   "execution_count": 102,
   "id": "b392001d",
   "metadata": {},
   "outputs": [
    {
     "name": "stdout",
     "output_type": "stream",
     "text": [
      "-> RAG Call ->\n",
      "RAG Result:\n",
      "The document focuses on prerequisites and notation for understanding machine learning, specifically supervised learning and neural networks.  It assumes some familiarity with machine learning concepts but provides resources for those lacking it.  The excerpt also includes a brief section on text features.\n"
     ]
    }
   ],
   "source": [
    "res=rag_function(AgentState({\"messages\": [\"What is the main topic of the document?\"]}))\n",
    "# Note: The above code assumes you have a PDF document at \"pdfs/document.pdf\".\n",
    "res = res[\"messages\"][0]\n",
    "print(\"RAG Result:\")\n",
    "print(res)"
   ]
  },
  {
   "cell_type": "markdown",
   "id": "c138bade",
   "metadata": {},
   "source": [
    "# LLM"
   ]
  },
  {
   "cell_type": "code",
   "execution_count": 92,
   "id": "2910fe7c",
   "metadata": {},
   "outputs": [],
   "source": [
    "def classify_query(state: AgentState):\n",
    "    question = state[\"messages\"][-1]\n",
    "    print(\"Question:\", question)\n",
    "    \n",
    "    template = \"\"\"\n",
    "    You are a classifier that categorizes user queries into one of the following three categories:\n",
    "    - deep learning: if the question is about deep learning, neural networks, AI models, etc.\n",
    "    - news: if the question is about recent events, current affairs, trends, or real-world updates.\n",
    "    - Not Related: if the question is unrelated to deep learning or news.\n",
    "\n",
    "    Only respond with one of the following exact words: deep learning, news, Not Related.\n",
    "\n",
    "    User query: {question}\n",
    "    {format_instructions}\n",
    "    \"\"\"\n",
    "    \n",
    "    prompt = PromptTemplate(\n",
    "        template=template,\n",
    "        input_variables=[\"question\"],\n",
    "        partial_variables={\"format_instructions\": parser.get_format_instructions()}\n",
    "    )\n",
    "    \n",
    "    chain = prompt | model | parser\n",
    "    response = chain.invoke({\"question\": question})\n",
    "    print(\"Parsed response:\", response)\n",
    "    return {\"messages\": [response.Topic]}\n"
   ]
  },
  {
   "cell_type": "code",
   "execution_count": 101,
   "id": "69dec498",
   "metadata": {},
   "outputs": [
    {
     "name": "stdout",
     "output_type": "stream",
     "text": [
      "Question: please provide today news  delhi?\n",
      "Parsed response: Topic='news' Reasoning='The query explicitly asks for news about Delhi.'\n"
     ]
    },
    {
     "data": {
      "text/plain": [
       "{'messages': ['news']}"
      ]
     },
     "execution_count": 101,
     "metadata": {},
     "output_type": "execute_result"
    }
   ],
   "source": [
    "state={\"messages\":[\"please provide today news  delhi?\"]}\n",
    "classify_query(state)"
   ]
  },
  {
   "cell_type": "code",
   "execution_count": 158,
   "id": "9975312c",
   "metadata": {},
   "outputs": [],
   "source": [
    "from langchain_community.tools import TavilySearchResults   \n",
    "tavily_search = TavilySearchResults()    \n",
    "\n",
    "def fetch_realtime_info_tavily(state:AgentState):\n",
    "    print(\"-> Realtime Info Call ->\")\n",
    "    \n",
    "    question = state[\"messages\"][0]\n",
    "    \n",
    "    # Use the Tavily search tool to get real-time information\n",
    "    results = tavily_search.invoke(question)\n",
    "    # print(\"Search results:\", results)\n",
    "    if not results:\n",
    "        return {\"messages\": [\"No real-time information found.\"]}\n",
    "    \n",
    "    # Format the results into a string\n",
    "    formatted_results = \"\\n\\n\".join([result['content'] for result in results])\n",
    "    print(\"Formatted results:\", formatted_results)\n",
    "    return {\"messages\": [formatted_results]}"
   ]
  },
  {
   "cell_type": "code",
   "execution_count": 95,
   "id": "c376f19e",
   "metadata": {},
   "outputs": [
    {
     "name": "stdout",
     "output_type": "stream",
     "text": [
      "-> Realtime Info Call ->\n",
      "Search results: [{'title': 'Latest AI Breakthroughs and News: May-June 2025 - Crescendo.ai', 'url': 'https://www.crescendo.ai/news/latest-ai-news-and-updates', 'content': '**Date:** June 1, 2025  \\n**Summary:** Ukraine reportedly used AI-enhanced drone swarms in a covert mission dubbed â\\x80\\x9cOperation Spider Webâ\\x80\\x9d to target a Russian bomber. The drones, said to cost as little as the price of an iPhone 16 Pro, represent a new phase of low-cost autonomous warfare. [...] **Date:** May 30, 2025  \\n**Summary:** Nvidia CEO Jensen Huang issued a bold warning about the rapid evolution of AI, emphasizing that people who fail to adopt AI in their workflow risk being replaced by those who do. His comments underline the urgency for upskilling in a transforming job market. [...] **Date:** May 31, 2025  \\n**Summary:** Monash University has announced a landmark investment in an AI supercomputer, becoming the first higher education institute in Australia to do so. The system will significantly accelerate national research across AI, medicine, and engineering fields.', 'score': 0.82082915}]\n",
      "Formatted results: **Date:** June 1, 2025  \n",
      "**Summary:** Ukraine reportedly used AI-enhanced drone swarms in a covert mission dubbed âOperation Spider Webâ to target a Russian bomber. The drones, said to cost as little as the price of an iPhone 16 Pro, represent a new phase of low-cost autonomous warfare. [...] **Date:** May 30, 2025  \n",
      "**Summary:** Nvidia CEO Jensen Huang issued a bold warning about the rapid evolution of AI, emphasizing that people who fail to adopt AI in their workflow risk being replaced by those who do. His comments underline the urgency for upskilling in a transforming job market. [...] **Date:** May 31, 2025  \n",
      "**Summary:** Monash University has announced a landmark investment in an AI supercomputer, becoming the first higher education institute in Australia to do so. The system will significantly accelerate national research across AI, medicine, and engineering fields.\n"
     ]
    },
    {
     "data": {
      "text/plain": [
       "{'messages': ['**Date:** June 1, 2025  \\n**Summary:** Ukraine reportedly used AI-enhanced drone swarms in a covert mission dubbed â\\x80\\x9cOperation Spider Webâ\\x80\\x9d to target a Russian bomber. The drones, said to cost as little as the price of an iPhone 16 Pro, represent a new phase of low-cost autonomous warfare. [...] **Date:** May 30, 2025  \\n**Summary:** Nvidia CEO Jensen Huang issued a bold warning about the rapid evolution of AI, emphasizing that people who fail to adopt AI in their workflow risk being replaced by those who do. His comments underline the urgency for upskilling in a transforming job market. [...] **Date:** May 31, 2025  \\n**Summary:** Monash University has announced a landmark investment in an AI supercomputer, becoming the first higher education institute in Australia to do so. The system will significantly accelerate national research across AI, medicine, and engineering fields.']}"
      ]
     },
     "execution_count": 95,
     "metadata": {},
     "output_type": "execute_result"
    }
   ],
   "source": [
    "state={\"messages\":[\"what is latest news in AI?\"]}\n",
    "fetch_realtime_info_tavily(state)"
   ]
  },
  {
   "cell_type": "code",
   "execution_count": 110,
   "id": "6387caa0",
   "metadata": {},
   "outputs": [],
   "source": [
    "# LLM Function\n",
    "def get_llm_response(state:AgentState):\n",
    "    print(\"-> LLM Call ->\")\n",
    "    question = state[\"messages\"][0]\n",
    "    \n",
    "    # Normal LLM call\n",
    "    complete_query = \"Anwer the follow question with you knowledge of the real world. Following is the user question: \" + question\n",
    "    response = model.invoke(complete_query)\n",
    "    return {\"messages\": [response.content]}"
   ]
  },
  {
   "cell_type": "markdown",
   "id": "b1fd7de3",
   "metadata": {},
   "source": [
    "# Router"
   ]
  },
  {
   "cell_type": "code",
   "execution_count": null,
   "id": "db6db9b0",
   "metadata": {},
   "outputs": [],
   "source": [
    "def router(state:AgentState):\n",
    "    print(\"-> ROUTER ->\")\n",
    "    \n",
    "    last_message=state[\"messages\"][-1]\n",
    "    print(\"last_message:\", last_message)\n",
    "    if \"deep learning\" in last_message.lower():\n",
    "        return \"RAG Call\"\n",
    "    elif \"news\" in last_message.lower():\n",
    "        return \"Realtime Info Call\"\n",
    "    else: \n",
    "        return \"LLM Call\""
   ]
  },
  {
   "cell_type": "code",
   "execution_count": null,
   "id": "69d709f1",
   "metadata": {},
   "outputs": [],
   "source": []
  },
  {
   "cell_type": "markdown",
   "id": "bffb25b0",
   "metadata": {},
   "source": [
    "# Validation"
   ]
  },
  {
   "cell_type": "code",
   "execution_count": 152,
   "id": "65c5a3d2",
   "metadata": {},
   "outputs": [],
   "source": [
    "# Validation Node Function\n",
    "def validate_output(state: AgentState):\n",
    "    print(\"-> VALIDATION NODE ->\")\n",
    "    last_message = state[\"messages\"][-1]\n",
    "    # Simple validation: check if the output is not empty and not a default fallback\n",
    "    if not last_message or \"could not be created\" in last_message.lower() or \"don't know\" in last_message.lower():\n",
    "        print(\"Validation failed.\")\n",
    "        return {\"valid\": False, \"messages\": state[\"messages\"]}\n",
    "    print(\"Validation passed.\")\n",
    "    return {\"valid\": True, \"messages\": state[\"messages\"]}\n",
    "\n",
    "# Conditional edge from Validation node\n",
    "def validation_router(state):\n",
    "    if state.get(\"valid\"):\n",
    "        return \"END\"\n",
    "    else:\n",
    "        return \"Supervisor\""
   ]
  },
  {
   "cell_type": "markdown",
   "id": "85ea9e89",
   "metadata": {},
   "source": [
    "# Langgraph setup"
   ]
  },
  {
   "cell_type": "code",
   "execution_count": 159,
   "id": "307b2ac2",
   "metadata": {},
   "outputs": [],
   "source": [
    "from langgraph.graph import StateGraph,END\n",
    "\n",
    "# Define the state graph\n",
    "workflow=StateGraph(AgentState)\n",
    "workflow.add_node(\"Supervisor\",classify_query)\n",
    "workflow.add_node(\"RAG\", rag_function)\n",
    "workflow.add_node(\"Realtime\", fetch_realtime_info_tavily)\n",
    "workflow.add_node(\"LLM\", get_llm_response)\n",
    "workflow.add_node(\"Validation\", validate_output)\n",
    "\n",
    "\n",
    "#workflow.add_node(\"END\", END)\n",
    "\n",
    "# workflow entrypoint\n",
    "workflow.set_entry_point(\"Supervisor\")\n",
    "\n",
    "# worflow conditionl edge\n",
    "\n",
    "workflow.add_conditional_edges(\n",
    "    \"Supervisor\",\n",
    "    router,\n",
    "    {\n",
    "        \"RAG Call\": \"RAG\",\n",
    "        \"LLM Call\": \"LLM\",\n",
    "        \"Realtime Info Call\": \"Realtime\"\n",
    "    }\n",
    ")\n",
    "\n",
    "\n",
    "# workflow.add_edge(\"RAG\",END)\n",
    "# workflow.add_edge(\"LLM\",END)\n",
    "#app=workflow.compile()\n",
    "# Add edges from RAG, LLM, and Realtime nodes to Validation node\n",
    "workflow.add_edge(\"RAG\", \"Validation\")\n",
    "workflow.add_edge(\"LLM\", \"Validation\")\n",
    "workflow.add_edge(\"Realtime\", \"Validation\")\n",
    "\n",
    "workflow.add_conditional_edges(\n",
    "    \"Validation\",\n",
    "    validation_router,\n",
    "    {\n",
    "        \"END\": END,\n",
    "        \"Supervisor\": \"Supervisor\"\n",
    "    }\n",
    ")\n",
    "\n",
    "# Re-compile the workflow to apply changes\n",
    "app = workflow.compile()"
   ]
  },
  {
   "cell_type": "code",
   "execution_count": 160,
   "id": "66ee0976",
   "metadata": {},
   "outputs": [
    {
     "data": {
      "image/png": "[encoded data removed]",
      "text/plain": [
       "<IPython.core.display.Image object>"
      ]
     },
     "metadata": {},
     "output_type": "display_data"
    }
   ],
   "source": [
    "from IPython.display import Image, display\n",
    "display(Image(app.get_graph().draw_mermaid_png()))"
   ]
  },
  {
   "cell_type": "code",
   "execution_count": 161,
   "id": "98ed6f51",
   "metadata": {},
   "outputs": [
    {
     "name": "stdout",
     "output_type": "stream",
     "text": [
      "Question: What is the latest news in Delhi?\n",
      "Parsed response: Topic='news' Reasoning='The query explicitly asks for the latest news in Delhi.'\n",
      "-> ROUTER ->\n",
      "last_message: news\n",
      "-> Realtime Info Call ->\n",
      "Formatted results: ![Rekha Gupta](https://static.indiatvnews.com/ins-web/images/lazy.webp)\n",
      "\n",
      "### Official residence of Delhi chief minister Rekha Gupta allotted at Civil Lines\n",
      "\n",
      "## LATEST DELHI NEWS\n",
      "\n",
      "### Delhi: Fire breaks out at e-rickshaw charging station in Ghonda area\n",
      "\n",
      "![Delhi Fire, fire at e-rickshaw charging station in Ghonda area, fire tenders on spot, delhi fire res](https://static.indiatvnews.com/ins-web/images/lazy-small.webp)\n",
      "\n",
      "### Delhi CM Rekha Gupta receives death threat, police probe underway [...] ### A cautious cheers: Delhi microbreweries ordered to send beer samples for testing before serving\n",
      "\n",
      "![Delhi excise department issues new rules for microbreweries](https://static.indiatvnews.com/ins-web/images/lazy-small.webp)\n",
      "\n",
      "### Manish Sisodia, Satyendar Jain summoned by ACB in alleged Rs 2,00 crore classroom construction scam\n",
      "\n",
      "![Sisodia and Jain have been asked to appear before the ACB](https://static.indiatvnews.com/ins-web/images/lazy-small.webp)\n",
      "\n",
      "## Top News [...] ![bakra eid 2025](https://static.indiatvnews.com/ins-web/images/lazy-small.webp)\n",
      "\n",
      "### Undertrial prisoner killed by inmates in Delhi's Saket court lock-up, old rivalry suspected\n",
      "\n",
      "![Saket court, ](https://static.indiatvnews.com/ins-web/images/lazy-small.webp)\n",
      "\n",
      "### Delhi Police nabs murder suspects after encounter in Sheikh Sarai amid crackdown on criminals\n",
      "\n",
      "![Two criminals were nabbed after the encounter with police.](https://static.indiatvnews.com/ins-web/images/lazy-small.webp)\n",
      "\n",
      "Delhi News · Body Of Girl, 9, Found Inside Suitcase In Delhi, Cops Suspect Sex Assault · Man Arrested For Giving Death Threat To Delhi Chief Minister Rekha\n",
      "\n",
      "![Madrasi camp demolition: 'Court ordered removal of this slum, no one can defy court orders', says Delhi CM Rekha Gupta; cites flood prevention as key reason](https://static.toiimg.com/photo/83033472.cms)\n",
      "![Delhi horror: Minor murdered after sexual assault in Dayalpur; police launch massive manhunt](https://static.toiimg.com/photo/83033472.cms)![Bend it for body: Delhi to host Yoga events at 11 sites](https://static.toiimg.com/photo/83033472.cms) [...] ![Delhi plans elevated road over Ring Road to ease chronic congestion; Rs 6,000 crore project spans 55km, needs no land acquisition](https://static.toiimg.com/photo/83033472.cms)\n",
      "![SW Delhi to get new sports stadium](https://static.toiimg.com/photo/83033472.cms)\n",
      "![BJP falsely claiming credit for landfill waste reduction: AAP](https://static.toiimg.com/photo/83033472.cms) [...] Delhi Metro's Phase IV achieves a milestone with the completion of a tunnel on the Tughlaqabad-Aerocity corridor, also known as the Golden Line. A tunnel boring machine successfully broke through at Tughlaqabad railway colony station after excavating a 0.79km-long tunnel. This breakthrough marks progress in expanding Delhi's metro network, promising improved infrastructure and services for citizens.\n",
      "\n",
      "### [Delhi Police ramps up security on Eid; social media under watch, public sacrifice banned](https://www.thehindu.com/news/cities/Delhi/delhi-police-ramps-up-security-on-eid-social-media-under-watch-public-sacrifice-banned/article69667725.ece)\n",
      "\n",
      "### [Delhi HC grants relief to CLAT-PG candidates over answer key dispute](https://www.thehindu.com/news/cities/Delhi/delhi-hc-grants-relief-to-clat-pg-candidates-over-answer-key-dispute/article69665323.ece) [...] ### [CM announces formation of new welfare board for transgender community](https://www.thehindu.com/news/cities/Delhi/cm-announces-formation-of-new-welfare-board-for-transgender-community/article69669575.ece)\n",
      "\n",
      "### [Law student held for death threat to Delhi CM](https://www.thehindu.com/news/cities/Delhi/law-student-held-for-death-threat-to-delhi-cm/article69669458.ece) [...] ##### [Opinion](https://www.thehindu.com/opinion/)\n",
      "\n",
      "##### [Business](https://www.thehindu.com/business/)\n",
      "\n",
      "##### [Sport](https://www.thehindu.com/sport/)\n",
      "\n",
      "##### [Sci-Tech](https://www.thehindu.com/sci-tech/)\n",
      "\n",
      "##### [States](https://www.thehindu.com/news/states/)\n",
      "\n",
      "##### [Cities](https://www.thehindu.com/news/cities/)\n",
      "\n",
      "##### Trending on The Hindu\n",
      "\n",
      "##### Trending on Group sites\n",
      "\n",
      "##### [Latest News](https://www.thehindu.com//latest-news/)\n",
      "\n",
      "# Delhi\n",
      "\n",
      "## Latest from Delhi\n",
      "\n",
      "## [Encroachers can't claim right to continue occupying public land: Delhi HC](/cities/delhi-news/encroachers-can-t-claim-right-to-continue-occupying-public-land-delhi-hc-101749374495147.html)\n",
      "\n",
      "## Encroachers can't claim right to continue occupying public land: Delhi HC\n",
      "-> VALIDATION NODE ->\n",
      "Validation passed.\n"
     ]
    },
    {
     "data": {
      "text/plain": [
       "{'messages': ['What is the latest news in Delhi?',\n",
       "  'news',\n",
       "  \"![Rekha Gupta](https://static.indiatvnews.com/ins-web/images/lazy.webp)\\n\\n### Official residence of Delhi chief minister Rekha Gupta allotted at Civil Lines\\n\\n## LATEST DELHI NEWS\\n\\n### Delhi: Fire breaks out at e-rickshaw charging station in Ghonda area\\n\\n![Delhi Fire, fire at e-rickshaw charging station in Ghonda area, fire tenders on spot, delhi fire res](https://static.indiatvnews.com/ins-web/images/lazy-small.webp)\\n\\n### Delhi CM Rekha Gupta receives death threat, police probe underway [...] ### A cautious cheers: Delhi microbreweries ordered to send beer samples for testing before serving\\n\\n![Delhi excise department issues new rules for microbreweries](https://static.indiatvnews.com/ins-web/images/lazy-small.webp)\\n\\n### Manish Sisodia, Satyendar Jain summoned by ACB in alleged Rs 2,00 crore classroom construction scam\\n\\n![Sisodia and Jain have been asked to appear before the ACB](https://static.indiatvnews.com/ins-web/images/lazy-small.webp)\\n\\n## Top News [...] ![bakra eid 2025](https://static.indiatvnews.com/ins-web/images/lazy-small.webp)\\n\\n### Undertrial prisoner killed by inmates in Delhi's Saket court lock-up, old rivalry suspected\\n\\n![Saket court, ](https://static.indiatvnews.com/ins-web/images/lazy-small.webp)\\n\\n### Delhi Police nabs murder suspects after encounter in Sheikh Sarai amid crackdown on criminals\\n\\n![Two criminals were nabbed after the encounter with police.](https://static.indiatvnews.com/ins-web/images/lazy-small.webp)\\n\\nDelhi News · Body Of Girl, 9, Found Inside Suitcase In Delhi, Cops Suspect Sex Assault · Man Arrested For Giving Death Threat To Delhi Chief Minister Rekha\\n\\n![Madrasi camp demolition: 'Court ordered removal of this slum, no one can defy court orders', says Delhi CM Rekha Gupta; cites flood prevention as key reason](https://static.toiimg.com/photo/83033472.cms)\\n![Delhi horror: Minor murdered after sexual assault in Dayalpur; police launch massive manhunt](https://static.toiimg.com/photo/83033472.cms)![Bend it for body: Delhi to host Yoga events at 11 sites](https://static.toiimg.com/photo/83033472.cms) [...] ![Delhi plans elevated road over Ring Road to ease chronic congestion; Rs 6,000 crore project spans 55km, needs no land acquisition](https://static.toiimg.com/photo/83033472.cms)\\n![SW Delhi to get new sports stadium](https://static.toiimg.com/photo/83033472.cms)\\n![BJP falsely claiming credit for landfill waste reduction: AAP](https://static.toiimg.com/photo/83033472.cms) [...] Delhi Metro's Phase IV achieves a milestone with the completion of a tunnel on the Tughlaqabad-Aerocity corridor, also known as the Golden Line. A tunnel boring machine successfully broke through at Tughlaqabad railway colony station after excavating a 0.79km-long tunnel. This breakthrough marks progress in expanding Delhi's metro network, promising improved infrastructure and services for citizens.\\n\\n### [Delhi Police ramps up security on Eid; social media under watch, public sacrifice banned](https://www.thehindu.com/news/cities/Delhi/delhi-police-ramps-up-security-on-eid-social-media-under-watch-public-sacrifice-banned/article69667725.ece)\\n\\n### [Delhi HC grants relief to CLAT-PG candidates over answer key dispute](https://www.thehindu.com/news/cities/Delhi/delhi-hc-grants-relief-to-clat-pg-candidates-over-answer-key-dispute/article69665323.ece) [...] ### [CM announces formation of new welfare board for transgender community](https://www.thehindu.com/news/cities/Delhi/cm-announces-formation-of-new-welfare-board-for-transgender-community/article69669575.ece)\\n\\n### [Law student held for death threat to Delhi CM](https://www.thehindu.com/news/cities/Delhi/law-student-held-for-death-threat-to-delhi-cm/article69669458.ece) [...] ##### [Opinion](https://www.thehindu.com/opinion/)\\n\\n##### [Business](https://www.thehindu.com/business/)\\n\\n##### [Sport](https://www.thehindu.com/sport/)\\n\\n##### [Sci-Tech](https://www.thehindu.com/sci-tech/)\\n\\n##### [States](https://www.thehindu.com/news/states/)\\n\\n##### [Cities](https://www.thehindu.com/news/cities/)\\n\\n##### Trending on The Hindu\\n\\n##### Trending on Group sites\\n\\n##### [Latest News](https://www.thehindu.com//latest-news/)\\n\\n# Delhi\\n\\n## Latest from Delhi\\n\\n## [Encroachers can't claim right to continue occupying public land: Delhi HC](/cities/delhi-news/encroachers-can-t-claim-right-to-continue-occupying-public-land-delhi-hc-101749374495147.html)\\n\\n## Encroachers can't claim right to continue occupying public land: Delhi HC\",\n",
       "  'What is the latest news in Delhi?',\n",
       "  'news',\n",
       "  \"![Rekha Gupta](https://static.indiatvnews.com/ins-web/images/lazy.webp)\\n\\n### Official residence of Delhi chief minister Rekha Gupta allotted at Civil Lines\\n\\n## LATEST DELHI NEWS\\n\\n### Delhi: Fire breaks out at e-rickshaw charging station in Ghonda area\\n\\n![Delhi Fire, fire at e-rickshaw charging station in Ghonda area, fire tenders on spot, delhi fire res](https://static.indiatvnews.com/ins-web/images/lazy-small.webp)\\n\\n### Delhi CM Rekha Gupta receives death threat, police probe underway [...] ### A cautious cheers: Delhi microbreweries ordered to send beer samples for testing before serving\\n\\n![Delhi excise department issues new rules for microbreweries](https://static.indiatvnews.com/ins-web/images/lazy-small.webp)\\n\\n### Manish Sisodia, Satyendar Jain summoned by ACB in alleged Rs 2,00 crore classroom construction scam\\n\\n![Sisodia and Jain have been asked to appear before the ACB](https://static.indiatvnews.com/ins-web/images/lazy-small.webp)\\n\\n## Top News [...] ![bakra eid 2025](https://static.indiatvnews.com/ins-web/images/lazy-small.webp)\\n\\n### Undertrial prisoner killed by inmates in Delhi's Saket court lock-up, old rivalry suspected\\n\\n![Saket court, ](https://static.indiatvnews.com/ins-web/images/lazy-small.webp)\\n\\n### Delhi Police nabs murder suspects after encounter in Sheikh Sarai amid crackdown on criminals\\n\\n![Two criminals were nabbed after the encounter with police.](https://static.indiatvnews.com/ins-web/images/lazy-small.webp)\\n\\nDelhi News · Body Of Girl, 9, Found Inside Suitcase In Delhi, Cops Suspect Sex Assault · Man Arrested For Giving Death Threat To Delhi Chief Minister Rekha\\n\\n![Madrasi camp demolition: 'Court ordered removal of this slum, no one can defy court orders', says Delhi CM Rekha Gupta; cites flood prevention as key reason](https://static.toiimg.com/photo/83033472.cms)\\n![Delhi horror: Minor murdered after sexual assault in Dayalpur; police launch massive manhunt](https://static.toiimg.com/photo/83033472.cms)![Bend it for body: Delhi to host Yoga events at 11 sites](https://static.toiimg.com/photo/83033472.cms) [...] ![Delhi plans elevated road over Ring Road to ease chronic congestion; Rs 6,000 crore project spans 55km, needs no land acquisition](https://static.toiimg.com/photo/83033472.cms)\\n![SW Delhi to get new sports stadium](https://static.toiimg.com/photo/83033472.cms)\\n![BJP falsely claiming credit for landfill waste reduction: AAP](https://static.toiimg.com/photo/83033472.cms) [...] Delhi Metro's Phase IV achieves a milestone with the completion of a tunnel on the Tughlaqabad-Aerocity corridor, also known as the Golden Line. A tunnel boring machine successfully broke through at Tughlaqabad railway colony station after excavating a 0.79km-long tunnel. This breakthrough marks progress in expanding Delhi's metro network, promising improved infrastructure and services for citizens.\\n\\n### [Delhi Police ramps up security on Eid; social media under watch, public sacrifice banned](https://www.thehindu.com/news/cities/Delhi/delhi-police-ramps-up-security-on-eid-social-media-under-watch-public-sacrifice-banned/article69667725.ece)\\n\\n### [Delhi HC grants relief to CLAT-PG candidates over answer key dispute](https://www.thehindu.com/news/cities/Delhi/delhi-hc-grants-relief-to-clat-pg-candidates-over-answer-key-dispute/article69665323.ece) [...] ### [CM announces formation of new welfare board for transgender community](https://www.thehindu.com/news/cities/Delhi/cm-announces-formation-of-new-welfare-board-for-transgender-community/article69669575.ece)\\n\\n### [Law student held for death threat to Delhi CM](https://www.thehindu.com/news/cities/Delhi/law-student-held-for-death-threat-to-delhi-cm/article69669458.ece) [...] ##### [Opinion](https://www.thehindu.com/opinion/)\\n\\n##### [Business](https://www.thehindu.com/business/)\\n\\n##### [Sport](https://www.thehindu.com/sport/)\\n\\n##### [Sci-Tech](https://www.thehindu.com/sci-tech/)\\n\\n##### [States](https://www.thehindu.com/news/states/)\\n\\n##### [Cities](https://www.thehindu.com/news/cities/)\\n\\n##### Trending on The Hindu\\n\\n##### Trending on Group sites\\n\\n##### [Latest News](https://www.thehindu.com//latest-news/)\\n\\n# Delhi\\n\\n## Latest from Delhi\\n\\n## [Encroachers can't claim right to continue occupying public land: Delhi HC](/cities/delhi-news/encroachers-can-t-claim-right-to-continue-occupying-public-land-delhi-hc-101749374495147.html)\\n\\n## Encroachers can't claim right to continue occupying public land: Delhi HC\"]}"
      ]
     },
     "execution_count": 161,
     "metadata": {},
     "output_type": "execute_result"
    }
   ],
   "source": [
    "app.invoke(AgentState({\"messages\": [\"What is the latest news in Delhi?\"]}))\n",
    "# app.invoke(AgentState({\"messages\": [\"What is the latest news in AI?\"]}))\n",
    "# app.invoke(AgentState({\"messages\": [\"What is the deep learning?\"]}))\n",
    "# app.invoke(AgentState({\"messages\": [\"What is the main topic of the document?\"]}))   "
   ]
  },
  {
   "cell_type": "code",
   "execution_count": null,
   "id": "33c710fb",
   "metadata": {},
   "outputs": [],
   "source": []
  },
  {
   "cell_type": "code",
   "execution_count": null,
   "id": "87cb55ec",
   "metadata": {},
   "outputs": [],
   "source": []
  },
  {
   "cell_type": "code",
   "execution_count": 146,
   "id": "bda2b3e2",
   "metadata": {},
   "outputs": [
    {
     "data": {
      "image/png": "[encoded data removed]",
      "text/plain": [
       "<IPython.core.display.Image object>"
      ]
     },
     "metadata": {},
     "output_type": "display_data"
    }
   ],
   "source": [
    "from IPython.display import Image, display\n",
    "display(Image(app.get_graph().draw_mermaid_png()))"
   ]
  }
 ],
 "metadata": {
  "kernelspec": {
   "display_name": "env13",
   "language": "python",
   "name": "python3"
  },
  "language_info": {
   "codemirror_mode": {
    "name": "ipython",
    "version": 3
   },
   "file_extension": ".py",
   "mimetype": "text/x-python",
   "name": "python",
   "nbconvert_exporter": "python",
   "pygments_lexer": "ipython3",
   "version": "3.13.3"
  }
 },
 "nbformat": 4,
 "nbformat_minor": 5
}
